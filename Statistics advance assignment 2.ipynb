{
 "cells": [
  {
   "cell_type": "code",
   "execution_count": null,
   "metadata": {},
   "outputs": [],
   "source": [
    "#STATISTICS PART 2"
   ]
  },
  {
   "cell_type": "code",
   "execution_count": null,
   "metadata": {},
   "outputs": [],
   "source": [
    "\"\"\"\n",
    "1) What is hypothesis testing in statistics?\n",
    "Answer-\n",
    "Hypothesis testing is a statistical method used to determine whether there is enough evidence to reject a null hypothesis. It involves \n",
    "comparing sample data to a hypothesis about a population parameter using tests like t-tests, chi-square tests, or ANOVA. The result \n",
    "helps in decision-making based on probability.\n",
    "\"\"\""
   ]
  },
  {
   "cell_type": "code",
   "execution_count": null,
   "metadata": {},
   "outputs": [],
   "source": [
    "\"\"\"\n",
    "2) What is the null hypothesis, and how does it differ from the alternative hypothesis?\n",
    "Answer-\n",
    "    The null hypothesis (H₀) is a default assumption that there is no effect or no difference. \n",
    "    The alternative hypothesis (H₁) is what we want to prove, indicating that there is an effect or a difference.\n",
    "\"\"\"\n"
   ]
  },
  {
   "cell_type": "code",
   "execution_count": null,
   "metadata": {},
   "outputs": [],
   "source": [
    "\"\"\"\n",
    "3) What is the significance level in hypothesis testing, and why is it important?\n",
    "Answer-\n",
    "    The significance level (denoted as α) is the threshold for rejecting the null hypothesis, commonly set at 0.05. \n",
    "    It represents the probability of making a Type I error — rejecting a true null hypothesis.\n",
    "\"\"\"\n"
   ]
  },
  {
   "cell_type": "code",
   "execution_count": null,
   "metadata": {},
   "outputs": [],
   "source": [
    "\"\"\"\n",
    "4) What does a P-value represent in hypothesis testing?\n",
    "Answer-\n",
    "    The P-value is the probability of obtaining results at least as extreme as the observed data, assuming the null hypothesis is true.\n",
    "\"\"\"\n"
   ]
  },
  {
   "cell_type": "code",
   "execution_count": null,
   "metadata": {},
   "outputs": [],
   "source": [
    "\"\"\"\n",
    "5) How do you interpret the P-value in hypothesis testing?\n",
    "Answer-\n",
    "    If the P-value ≤ α (e.g., 0.05), we reject the null hypothesis. \n",
    "    If the P-value > α, we fail to reject the null hypothesis.\n",
    "\"\"\"\n"
   ]
  },
  {
   "cell_type": "code",
   "execution_count": null,
   "metadata": {},
   "outputs": [],
   "source": [
    "\"\"\"\n",
    "6) What are Type 1 and Type 2 errors in hypothesis testing?\n",
    "Answer-\n",
    "    Type I Error: Rejecting the null hypothesis when it is true (false positive).\n",
    "    Type II Error: Failing to reject the null hypothesis when it is false (false negative).\n",
    "\"\"\"\n"
   ]
  },
  {
   "cell_type": "code",
   "execution_count": null,
   "metadata": {},
   "outputs": [],
   "source": [
    "\"\"\"\n",
    "7) What is the difference between a one-tailed and a two-tailed test in hypothesis testing?\n",
    "Answer-\n",
    "    One-tailed test checks for an effect in one direction (greater than or less than).\n",
    "    Two-tailed test checks for an effect in both directions (not equal).\n",
    "\"\"\"\n"
   ]
  },
  {
   "cell_type": "code",
   "execution_count": null,
   "metadata": {},
   "outputs": [],
   "source": [
    "\"\"\"\n",
    "8) What is the Z-test, and when is it used in hypothesis testing?\n",
    "Answer-\n",
    "    A Z-test is used to determine if there is a significant difference between sample and population means when the population variance is known and sample size is large (n > 30).\n",
    "\"\"\"\n"
   ]
  },
  {
   "cell_type": "code",
   "execution_count": null,
   "metadata": {},
   "outputs": [],
   "source": [
    "\"\"\"\n",
    "9) How do you calculate the Z-score, and what does it represent in hypothesis testing?\n",
    "Answer-\n",
    "    Z = (X̄ - μ) / (σ / √n)\n",
    "    It represents the number of standard deviations a sample mean is from the population mean under the null hypothesis.\n",
    "\"\"\"\n"
   ]
  },
  {
   "cell_type": "code",
   "execution_count": null,
   "metadata": {},
   "outputs": [],
   "source": [
    "\"\"\"\n",
    "10) What is the T-distribution, and when should it be used instead of the normal distribution?\n",
    "Answer-\n",
    "    The T-distribution is used when the sample size is small (n < 30) and population standard deviation is unknown. \n",
    "    It has heavier tails than the normal distribution to account for more variability.\n",
    "\"\"\"\n"
   ]
  },
  {
   "cell_type": "code",
   "execution_count": null,
   "metadata": {},
   "outputs": [],
   "source": [
    "\"\"\"\n",
    "11) What is the difference between a Z-test and a T-test?\n",
    "Answer-\n",
    "    Z-test is used when population variance is known and sample size is large. \n",
    "    T-test is used when population variance is unknown and sample size is small.\n",
    "\"\"\"\n"
   ]
  },
  {
   "cell_type": "code",
   "execution_count": null,
   "metadata": {},
   "outputs": [],
   "source": [
    "\"\"\"\n",
    "12) What is the T-test, and how is it used in hypothesis testing?\n",
    "Answer-\n",
    "    The T-test is used to compare the means of two groups to determine if they are significantly different from each other.\n",
    "    It can be one-sample, two-sample (independent), or paired.\n",
    "\"\"\"\n"
   ]
  },
  {
   "cell_type": "code",
   "execution_count": null,
   "metadata": {},
   "outputs": [],
   "source": [
    "\"\"\"\n",
    "13) What is the relationship between Z-test and T-test in hypothesis testing?\n",
    "Answer-\n",
    "    Both tests are used to compare means, but the Z-test assumes known variance and large samples, \n",
    "    while the T-test is more appropriate for small samples and unknown variance.\n",
    "\"\"\"\n"
   ]
  },
  {
   "cell_type": "code",
   "execution_count": null,
   "metadata": {},
   "outputs": [],
   "source": [
    "\"\"\"\n",
    "14) What is a confidence interval, and how is it used to interpret statistical results?\n",
    "Answer-\n",
    "    A confidence interval is a range of values derived from the sample data that is likely to contain the true population parameter.\n",
    "    It provides an estimate with an associated confidence level (e.g., 95%).\n",
    "\"\"\"\n"
   ]
  },
  {
   "cell_type": "code",
   "execution_count": null,
   "metadata": {},
   "outputs": [],
   "source": [
    "\"\"\"\n",
    "15) What is the margin of error, and how does it affect the confidence interval?\n",
    "Answer-\n",
    "    The margin of error is the maximum expected difference between the true population parameter and a sample estimate.\n",
    "    A larger margin increases the width of the confidence interval, indicating less precision.\n",
    "\"\"\"\n"
   ]
  },
  {
   "cell_type": "code",
   "execution_count": null,
   "metadata": {},
   "outputs": [],
   "source": [
    "\"\"\"\n",
    "16) How is Bayes' Theorem used in statistics, and what is its significance?\n",
    "Answer-\n",
    "    Bayes' Theorem is used to update the probability of a hypothesis based on new evidence.\n",
    "    It is significant in fields like machine learning, diagnostics, and decision making under uncertainty.\n",
    "\"\"\"\n"
   ]
  },
  {
   "cell_type": "code",
   "execution_count": null,
   "metadata": {},
   "outputs": [],
   "source": [
    "\"\"\"\n",
    "17) What is the Chi-square distribution, and when is it used?\n",
    "Answer-\n",
    "    The Chi-square distribution is used in tests of independence and goodness of fit.\n",
    "    It is right-skewed and depends on degrees of freedom.\n",
    "\"\"\"\n"
   ]
  },
  {
   "cell_type": "code",
   "execution_count": null,
   "metadata": {},
   "outputs": [],
   "source": [
    "\"\"\"\n",
    "18) What is the Chi-square goodness of fit test, and how is it applied?\n",
    "Answer-\n",
    "    It checks whether observed frequencies match expected frequencies under a given distribution.\n",
    "    It is applied by comparing the Chi-square statistic to a critical value or using the P-value.\n",
    "\"\"\"\n"
   ]
  },
  {
   "cell_type": "code",
   "execution_count": null,
   "metadata": {},
   "outputs": [],
   "source": [
    "\"\"\"\n",
    "19) What is the F-distribution, and when is it used in hypothesis testing?\n",
    "Answer-\n",
    "    The F-distribution is used in variance comparison tests like ANOVA.\n",
    "    It arises as the ratio of two scaled chi-square distributions and is right-skewed.\n",
    "\"\"\"\n"
   ]
  },
  {
   "cell_type": "code",
   "execution_count": null,
   "metadata": {},
   "outputs": [],
   "source": [
    "\"\"\"\n",
    "20) What is an ANOVA test, and what are its assumptions?\n",
    "Answer-\n",
    "    ANOVA (Analysis of Variance) is used to compare the means of three or more groups.\n",
    "    Assumptions: independence, normality, and equal variances (homoscedasticity).\n",
    "\"\"\"\n"
   ]
  },
  {
   "cell_type": "code",
   "execution_count": null,
   "metadata": {},
   "outputs": [],
   "source": [
    "\"\"\"\n",
    "21) What are the different types of ANOVA tests?\n",
    "Answer-\n",
    "    - One-way ANOVA: Compares means across one factor.\n",
    "    - Two-way ANOVA: Compares means across two factors.\n",
    "    - Repeated Measures ANOVA: Used when the same subjects are measured multiple times.\n",
    "\"\"\"\n"
   ]
  },
  {
   "cell_type": "code",
   "execution_count": null,
   "metadata": {},
   "outputs": [],
   "source": [
    "\"\"\"\n",
    "22) What is the F-test, and how does it relate to hypothesis testing?\n",
    "Answer-\n",
    "    The F-test compares two variances to test the hypothesis that they are equal.\n",
    "    It is used in ANOVA and regression to evaluate model significance.\n",
    "\"\"\"\n"
   ]
  },
  {
   "cell_type": "code",
   "execution_count": null,
   "metadata": {},
   "outputs": [],
   "source": [
    "#Practicals"
   ]
  },
  {
   "cell_type": "code",
   "execution_count": 2,
   "metadata": {},
   "outputs": [
    {
     "name": "stdout",
     "output_type": "stream",
     "text": [
      "Z-score: 0.20876670019176927\n",
      "P-value: 0.8346303679168421\n"
     ]
    }
   ],
   "source": [
    "\"\"\"\n",
    "1) Write a Python program to perform a Z-test for comparing a sample mean to a known population mean and interpret the results\n",
    "Answer-\n",
    "\"\"\"\n",
    "import numpy as np\n",
    "from scipy import stats\n",
    "\n",
    "sample = [110, 115, 120, 130, 125, 118, 117, 119, 122, 128]\n",
    "population_mean = 120\n",
    "sample_mean = np.mean(sample)\n",
    "sample_std = np.std(sample, ddof=1)\n",
    "n = len(sample)\n",
    "\n",
    "z_score = (sample_mean - population_mean) / (sample_std / np.sqrt(n))\n",
    "p_value = 2 * (1 - stats.norm.cdf(abs(z_score)))\n",
    "\n",
    "print(\"Z-score:\", z_score)\n",
    "print(\"P-value:\", p_value)\n"
   ]
  },
  {
   "cell_type": "code",
   "execution_count": 3,
   "metadata": {},
   "outputs": [
    {
     "name": "stdout",
     "output_type": "stream",
     "text": [
      "T-statistic: -5.416846758644263\n",
      "P-value: 4.2621989435968936e-07\n"
     ]
    }
   ],
   "source": [
    "\"\"\"\n",
    "2) Simulate random data to perform hypothesis testing and calculate the corresponding P-value using Python\n",
    "Answer-\n",
    "\"\"\"\n",
    "import numpy as np\n",
    "from scipy import stats\n",
    "\n",
    "data = np.random.normal(loc=50, scale=5, size=100)\n",
    "t_stat, p_value = stats.ttest_1samp(data, popmean=52)\n",
    "\n",
    "print(\"T-statistic:\", t_stat)\n",
    "print(\"P-value:\", p_value)\n"
   ]
  },
  {
   "cell_type": "code",
   "execution_count": 4,
   "metadata": {},
   "outputs": [
    {
     "name": "stdout",
     "output_type": "stream",
     "text": [
      "Z-score: -3.6742346141747673\n",
      "P-value: 0.00023856345402872847\n"
     ]
    }
   ],
   "source": [
    "\"\"\"\n",
    "3) Implement a one-sample Z-test using Python to compare the sample mean with the population mean\n",
    "Answer-\n",
    "\"\"\"\n",
    "import numpy as np\n",
    "from scipy import stats\n",
    "\n",
    "data = [45, 47, 50, 46, 44, 48, 49]\n",
    "pop_mean = 50\n",
    "sample_mean = np.mean(data)\n",
    "sample_std = np.std(data, ddof=1)\n",
    "n = len(data)\n",
    "\n",
    "z = (sample_mean - pop_mean) / (sample_std / np.sqrt(n))\n",
    "p = 2 * (1 - stats.norm.cdf(abs(z)))\n",
    "\n",
    "print(\"Z-score:\", z)\n",
    "print(\"P-value:\", p)\n"
   ]
  },
  {
   "cell_type": "code",
   "execution_count": 5,
   "metadata": {},
   "outputs": [
    {
     "data": {
      "image/png": "[encoded data removed]",
      "text/plain": [
       "<Figure size 640x480 with 1 Axes>"
      ]
     },
     "metadata": {},
     "output_type": "display_data"
    },
    {
     "name": "stdout",
     "output_type": "stream",
     "text": [
      "Z-score: 4.694728765748296\n",
      "P-value: 2.6696070443144038e-06\n"
     ]
    }
   ],
   "source": [
    "\"\"\"\n",
    "4) Perform a two-tailed Z-test using Python and visualize the decision region on a plot\n",
    "Answer-\n",
    "\"\"\"\n",
    "import numpy as np\n",
    "from scipy import stats\n",
    "import matplotlib.pyplot as plt\n",
    "\n",
    "sample = np.random.normal(105, 10, 100)\n",
    "z = (np.mean(sample) - 100) / (np.std(sample, ddof=1) / np.sqrt(len(sample)))\n",
    "p = 2 * (1 - stats.norm.cdf(abs(z)))\n",
    "\n",
    "x = np.linspace(-4, 4, 1000)\n",
    "y = stats.norm.pdf(x)\n",
    "\n",
    "plt.plot(x, y)\n",
    "plt.fill_between(x, y, where=(x < -1.96) | (x > 1.96), color='red', alpha=0.3)\n",
    "plt.axvline(z, color='blue', linestyle='--')\n",
    "plt.title(\"Two-tailed Z-test Decision Region\")\n",
    "plt.xlabel(\"Z\")\n",
    "plt.ylabel(\"Probability Density\")\n",
    "plt.show()\n",
    "print(\"Z-score:\", z)\n",
    "print(\"P-value:\", p)\n"
   ]
  },
  {
   "cell_type": "code",
   "execution_count": 6,
   "metadata": {},
   "outputs": [
    {
     "data": {
      "image/png": "[encoded data removed]",
      "text/plain": [
       "<Figure size 640x480 with 1 Axes>"
      ]
     },
     "metadata": {},
     "output_type": "display_data"
    }
   ],
   "source": [
    "\"\"\"\n",
    "5) Create a Python function that calculates and visualizes Type 1 and Type 2 errors during hypothesis testing\n",
    "Answer-\n",
    "\"\"\"\n",
    "import numpy as np\n",
    "import matplotlib.pyplot as plt\n",
    "from scipy.stats import norm\n",
    "\n",
    "def visualize_errors(mu0=0, mu1=1, sigma=1, alpha=0.05, n=30):\n",
    "    se = sigma / np.sqrt(n)\n",
    "    z_critical = norm.ppf(1 - alpha)\n",
    "    x = np.linspace(-3, 5, 1000)\n",
    "    \n",
    "    plt.plot(x, norm.pdf(x, mu0, se), label=\"H0 distribution\")\n",
    "    plt.plot(x, norm.pdf(x, mu1, se), label=\"H1 distribution\")\n",
    "    plt.axvline(mu0 + z_critical * se, color='red', linestyle='--', label='Critical Value')\n",
    "    \n",
    "    plt.fill_between(x, 0, norm.pdf(x, mu0, se), where=x > mu0 + z_critical * se, color='red', alpha=0.3, label='Type I Error')\n",
    "    plt.fill_between(x, 0, norm.pdf(x, mu1, se), where=x < mu0 + z_critical * se, color='blue', alpha=0.3, label='Type II Error')\n",
    "\n",
    "    plt.legend()\n",
    "    plt.title(\"Type I and Type II Errors\")\n",
    "    plt.xlabel(\"Test Statistic\")\n",
    "    plt.ylabel(\"Density\")\n",
    "    plt.show()\n",
    "\n",
    "visualize_errors()\n"
   ]
  },
  {
   "cell_type": "code",
   "execution_count": 7,
   "metadata": {},
   "outputs": [
    {
     "name": "stdout",
     "output_type": "stream",
     "text": [
      "T-statistic: -3.4545856138599635\n",
      "P-value: 0.000674130577048332\n"
     ]
    }
   ],
   "source": [
    "\"\"\"\n",
    "6) Write a Python program to perform an independent T-test and interpret the results.\n",
    "Answer-\n",
    "\"\"\"\n",
    "import numpy as np\n",
    "from scipy import stats\n",
    "\n",
    "group1 = np.random.normal(loc=50, scale=5, size=100)\n",
    "group2 = np.random.normal(loc=52, scale=5, size=100)\n",
    "\n",
    "t_stat, p_value = stats.ttest_ind(group1, group2)\n",
    "\n",
    "print(\"T-statistic:\", t_stat)\n",
    "print(\"P-value:\", p_value)\n"
   ]
  },
  {
   "cell_type": "code",
   "execution_count": 8,
   "metadata": {},
   "outputs": [
    {
     "name": "stdout",
     "output_type": "stream",
     "text": [
      "T-statistic: -5.2846622112765385\n",
      "P-value: 7.508977477076362e-07\n"
     ]
    },
    {
     "name": "stderr",
     "output_type": "stream",
     "text": [
      "C:\\Users\\Varshitha G\\AppData\\Local\\Temp\\ipykernel_3512\\378482207.py:17: MatplotlibDeprecationWarning: The 'labels' parameter of boxplot() has been renamed 'tick_labels' since Matplotlib 3.9; support for the old name will be dropped in 3.11.\n",
      "  plt.boxplot([before, after], labels=['Before', 'After'])\n"
     ]
    },
    {
     "data": {
      "image/png": "[encoded data removed]",
      "text/plain": [
       "<Figure size 640x480 with 1 Axes>"
      ]
     },
     "metadata": {},
     "output_type": "display_data"
    }
   ],
   "source": [
    "\"\"\"\n",
    "7) Perform a paired sample T-test using Python and visualize the comparison results.\n",
    "Answer-\n",
    "\"\"\"\n",
    "import numpy as np\n",
    "from scipy import stats\n",
    "import matplotlib.pyplot as plt\n",
    "\n",
    "before = np.random.normal(loc=50, scale=5, size=100)\n",
    "after = before + np.random.normal(loc=2, scale=5, size=100)\n",
    "\n",
    "t_stat, p_value = stats.ttest_rel(before, after)\n",
    "\n",
    "print(\"T-statistic:\", t_stat)\n",
    "print(\"P-value:\", p_value)\n",
    "\n",
    "plt.boxplot([before, after], labels=['Before', 'After'])\n",
    "plt.title(\"Paired Sample T-test\")\n",
    "plt.show()\n"
   ]
  },
  {
   "cell_type": "code",
   "execution_count": 9,
   "metadata": {},
   "outputs": [
    {
     "name": "stdout",
     "output_type": "stream",
     "text": [
      "Z-statistic: -3.9556169472414098\n",
      "Z-p-value: 7.633739325739197e-05\n",
      "T-statistic: -3.786719396347636\n",
      "T-p-value: 0.00026194703248451253\n"
     ]
    }
   ],
   "source": [
    "\"\"\"\n",
    "8) Simulate data and perform both Z-test and T-test, then compare the results using Python.\n",
    "Answer-\n",
    "\"\"\"\n",
    "import numpy as np\n",
    "from scipy import stats\n",
    "\n",
    "# Simulate data\n",
    "data = np.random.normal(loc=50, scale=5, size=100)\n",
    "\n",
    "# Z-test\n",
    "z_stat = (np.mean(data) - 52) / (5 / np.sqrt(len(data)))\n",
    "z_p_value = stats.norm.sf(abs(z_stat)) * 2  # Two-tailed test\n",
    "\n",
    "# T-test\n",
    "t_stat, t_p_value = stats.ttest_1samp(data, popmean=52)\n",
    "\n",
    "print(\"Z-statistic:\", z_stat)\n",
    "print(\"Z-p-value:\", z_p_value)\n",
    "print(\"T-statistic:\", t_stat)\n",
    "print(\"T-p-value:\", t_p_value)\n"
   ]
  },
  {
   "cell_type": "code",
   "execution_count": 10,
   "metadata": {},
   "outputs": [
    {
     "name": "stdout",
     "output_type": "stream",
     "text": [
      "Confidence Interval: (49.03362650584403, 51.00652743681986)\n"
     ]
    }
   ],
   "source": [
    "\"\"\"\n",
    "9) Write a Python function to calculate the confidence interval for a sample mean and explain its significance.\n",
    "Answer-\n",
    "\"\"\"\n",
    "import numpy as np\n",
    "import scipy.stats as stats\n",
    "\n",
    "def confidence_interval(data, confidence=0.95):\n",
    "    sample_mean = np.mean(data)\n",
    "    sample_std = np.std(data, ddof=1)\n",
    "    sample_size = len(data)\n",
    "    margin_of_error = stats.t.ppf(1 - (1 - confidence) / 2, sample_size - 1) * (sample_std / np.sqrt(sample_size))\n",
    "    \n",
    "    return sample_mean - margin_of_error, sample_mean + margin_of_error\n",
    "\n",
    "# Simulate data\n",
    "data = np.random.normal(loc=50, scale=5, size=100)\n",
    "\n",
    "lower, upper = confidence_interval(data)\n",
    "print(f\"Confidence Interval: ({lower}, {upper})\")\n"
   ]
  },
  {
   "cell_type": "code",
   "execution_count": 11,
   "metadata": {},
   "outputs": [
    {
     "name": "stdout",
     "output_type": "stream",
     "text": [
      "Margin of Error: 1.0426264822018871\n"
     ]
    }
   ],
   "source": [
    "\"\"\"\n",
    "10) Write a Python program to calculate the margin of error for a given confidence level using sample data.\n",
    "Answer-\n",
    "\"\"\"\n",
    "import numpy as np\n",
    "import scipy.stats as stats\n",
    "\n",
    "def margin_of_error(data, confidence=0.95):\n",
    "    sample_mean = np.mean(data)\n",
    "    sample_std = np.std(data, ddof=1)\n",
    "    sample_size = len(data)\n",
    "    margin = stats.t.ppf(1 - (1 - confidence) / 2, sample_size - 1) * (sample_std / np.sqrt(sample_size))\n",
    "    return margin\n",
    "\n",
    "# Simulate data\n",
    "data = np.random.normal(loc=50, scale=5, size=100)\n",
    "\n",
    "margin = margin_of_error(data)\n",
    "print(\"Margin of Error:\", margin)\n"
   ]
  },
  {
   "cell_type": "code",
   "execution_count": 12,
   "metadata": {},
   "outputs": [
    {
     "name": "stdout",
     "output_type": "stream",
     "text": [
      "Posterior Probability: 0.05\n"
     ]
    }
   ],
   "source": [
    "\"\"\"\n",
    "11) Implement a Bayesian inference method using Bayes' Theorem in Python and explain the process.\n",
    "Answer-\n",
    "\"\"\"\n",
    "def bayes_theorem(prior, likelihood, evidence):\n",
    "    return (likelihood * prior) / evidence\n",
    "\n",
    "# Example: A factory produces 95% good products and 5% defective. A test detects defectiveness with 90% accuracy.\n",
    "# Prior: probability of defect = 0.05, likelihood: probability test detects defect = 0.9, evidence: total probability of defect or non-defect\n",
    "\n",
    "prior = 0.05  # Probability that a product is defective\n",
    "likelihood = 0.9  # Probability that the test detects defect\n",
    "evidence = (prior * likelihood) + ((1 - prior) * (1 - 0.1))  # Total probability\n",
    "\n",
    "posterior = bayes_theorem(prior, likelihood, evidence)\n",
    "print(\"Posterior Probability:\", posterior)\n"
   ]
  },
  {
   "cell_type": "code",
   "execution_count": 13,
   "metadata": {},
   "outputs": [
    {
     "name": "stdout",
     "output_type": "stream",
     "text": [
      "Chi-squared statistic: 15.041666666666666\n",
      "P-value: 0.00010516355403363098\n",
      "Degrees of freedom: 1\n",
      "Expected frequencies: [[20. 20.]\n",
      " [30. 30.]]\n"
     ]
    }
   ],
   "source": [
    "\"\"\"\n",
    "12) Perform a Chi-square test for independence between two categorical variables in Python.\n",
    "Answer-\n",
    "\"\"\"\n",
    "import numpy as np\n",
    "from scipy import stats\n",
    "\n",
    "# Example data: Gender vs. Preference for a product\n",
    "data = np.array([[30, 10], [20, 40]])  # [Male, Female] x [Likes, Dislikes]\n",
    "\n",
    "chi2_stat, p_value, dof, expected = stats.chi2_contingency(data)\n",
    "\n",
    "print(\"Chi-squared statistic:\", chi2_stat)\n",
    "print(\"P-value:\", p_value)\n",
    "print(\"Degrees of freedom:\", dof)\n",
    "print(\"Expected frequencies:\", expected)\n"
   ]
  },
  {
   "cell_type": "code",
   "execution_count": 14,
   "metadata": {},
   "outputs": [
    {
     "name": "stdout",
     "output_type": "stream",
     "text": [
      "Observed frequencies:\n",
      " [[30 10]\n",
      " [20 40]]\n",
      "Expected frequencies:\n",
      " [[20. 20.]\n",
      " [30. 30.]]\n"
     ]
    }
   ],
   "source": [
    "\"\"\"\n",
    "13) Write a Python program to calculate the expected frequencies for a Chi-square test based on observed data.\n",
    "Answer-\n",
    "\"\"\"\n",
    "import numpy as np\n",
    "from scipy import stats\n",
    "\n",
    "observed_data = np.array([[30, 10], [20, 40]])  # Example: [Male, Female] x [Likes, Dislikes]\n",
    "\n",
    "chi2_stat, p_value, dof, expected = stats.chi2_contingency(observed_data)\n",
    "\n",
    "print(\"Observed frequencies:\\n\", observed_data)\n",
    "print(\"Expected frequencies:\\n\", expected)\n"
   ]
  },
  {
   "cell_type": "code",
   "execution_count": 15,
   "metadata": {},
   "outputs": [
    {
     "name": "stdout",
     "output_type": "stream",
     "text": [
      "Chi-squared statistic: 5.0\n",
      "P-value: 0.0820849986238988\n"
     ]
    }
   ],
   "source": [
    "\"\"\"\n",
    "14) Perform a goodness-of-fit test using Python to compare the observed data to an expected distribution.\n",
    "Answer-\n",
    "\"\"\"\n",
    "import numpy as np\n",
    "from scipy import stats\n",
    "\n",
    "observed = np.array([50, 30, 20])  # Example: Observed frequency of outcomes\n",
    "expected = np.array([40, 40, 20])  # Example: Expected frequency of outcomes\n",
    "\n",
    "chi2_stat, p_value = stats.chisquare(observed, expected)\n",
    "\n",
    "print(\"Chi-squared statistic:\", chi2_stat)\n",
    "print(\"P-value:\", p_value)\n"
   ]
  },
  {
   "cell_type": "code",
   "execution_count": 16,
   "metadata": {},
   "outputs": [
    {
     "data": {
      "image/png": "[encoded data removed]",
      "text/plain": [
       "<Figure size 640x480 with 1 Axes>"
      ]
     },
     "metadata": {},
     "output_type": "display_data"
    }
   ],
   "source": [
    "\"\"\"\n",
    "15) Create a Python script to simulate and visualize the Chi-square distribution and discuss its characteristics.\n",
    "Answer-\n",
    "\"\"\"\n",
    "import numpy as np\n",
    "import matplotlib.pyplot as plt\n",
    "from scipy.stats import chi2\n",
    "\n",
    "# Simulating Chi-square distribution\n",
    "df = 5  # Degrees of freedom\n",
    "data = chi2.rvs(df, size=1000)\n",
    "\n",
    "plt.hist(data, bins=30, density=True, alpha=0.6, color='b')\n",
    "\n",
    "# Plotting the theoretical Chi-square distribution\n",
    "x = np.linspace(0, 15, 100)\n",
    "plt.plot(x, chi2.pdf(x, df), 'r-', label=f'Chi-square df={df}')\n",
    "\n",
    "plt.title(\"Chi-square Distribution\")\n",
    "plt.xlabel(\"Value\")\n",
    "plt.ylabel(\"Density\")\n",
    "plt.legend()\n",
    "plt.show()\n"
   ]
  },
  {
   "cell_type": "code",
   "execution_count": 17,
   "metadata": {},
   "outputs": [
    {
     "name": "stdout",
     "output_type": "stream",
     "text": [
      "F-statistic: 4.708988590465614\n",
      "P-value: 0.031195892979315822\n"
     ]
    }
   ],
   "source": [
    "\"\"\"\n",
    "16) Implement an F-test using Python to compare the variances of two random samples.\n",
    "Answer-\n",
    "\"\"\"\n",
    "import numpy as np\n",
    "from scipy import stats\n",
    "\n",
    "# Generate two samples\n",
    "sample1 = np.random.normal(loc=50, scale=10, size=100)\n",
    "sample2 = np.random.normal(loc=55, scale=15, size=100)\n",
    "\n",
    "f_stat, p_value = stats.f_oneway(sample1, sample2)\n",
    "\n",
    "print(\"F-statistic:\", f_stat)\n",
    "print(\"P-value:\", p_value)\n"
   ]
  },
  {
   "cell_type": "code",
   "execution_count": 18,
   "metadata": {},
   "outputs": [
    {
     "name": "stdout",
     "output_type": "stream",
     "text": [
      "F-statistic: 100.83208725532299\n",
      "P-value: 3.800316109977519e-34\n"
     ]
    }
   ],
   "source": [
    "\"\"\"\n",
    "17) Write a Python program to perform an ANOVA test to compare means between multiple groups and interpret the results.\n",
    "Answer-\n",
    "\"\"\"\n",
    "import numpy as np\n",
    "from scipy import stats\n",
    "\n",
    "# Generate three groups of data\n",
    "group1 = np.random.normal(loc=50, scale=5, size=100)\n",
    "group2 = np.random.normal(loc=55, scale=5, size=100)\n",
    "group3 = np.random.normal(loc=60, scale=5, size=100)\n",
    "\n",
    "f_stat, p_value = stats.f_oneway(group1, group2, group3)\n",
    "\n",
    "print(\"F-statistic:\", f_stat)\n",
    "print(\"P-value:\", p_value)\n"
   ]
  },
  {
   "cell_type": "code",
   "execution_count": 19,
   "metadata": {},
   "outputs": [
    {
     "name": "stderr",
     "output_type": "stream",
     "text": [
      "C:\\Users\\Varshitha G\\AppData\\Local\\Temp\\ipykernel_3512\\2448413033.py:18: MatplotlibDeprecationWarning: The 'labels' parameter of boxplot() has been renamed 'tick_labels' since Matplotlib 3.9; support for the old name will be dropped in 3.11.\n",
      "  plt.boxplot([group1, group2, group3], labels=['Group 1', 'Group 2', 'Group 3'])\n"
     ]
    },
    {
     "data": {
      "image/png": "[encoded data removed]",
      "text/plain": [
       "<Figure size 640x480 with 1 Axes>"
      ]
     },
     "metadata": {},
     "output_type": "display_data"
    },
    {
     "name": "stdout",
     "output_type": "stream",
     "text": [
      "F-statistic: 88.7514350713346\n",
      "P-value: 6.0654696442410225e-31\n"
     ]
    }
   ],
   "source": [
    "\"\"\"\n",
    "18) Perform a one-way ANOVA test using Python to compare the means of different groups and plot the results.\n",
    "Answer-\n",
    "\"\"\"\n",
    "import numpy as np\n",
    "import matplotlib.pyplot as plt\n",
    "from scipy import stats\n",
    "\n",
    "# Generate three groups of data\n",
    "group1 = np.random.normal(loc=50, scale=5, size=100)\n",
    "group2 = np.random.normal(loc=55, scale=5, size=100)\n",
    "group3 = np.random.normal(loc=60, scale=5, size=100)\n",
    "\n",
    "# One-way ANOVA\n",
    "f_stat, p_value = stats.f_oneway(group1, group2, group3)\n",
    "\n",
    "# Plotting the groups\n",
    "plt.boxplot([group1, group2, group3], labels=['Group 1', 'Group 2', 'Group 3'])\n",
    "plt.title(\"One-way ANOVA Test\")\n",
    "plt.show()\n",
    "\n",
    "print(\"F-statistic:\", f_stat)\n",
    "print(\"P-value:\", p_value)\n"
   ]
  },
  {
   "cell_type": "code",
   "execution_count": 20,
   "metadata": {},
   "outputs": [
    {
     "name": "stdout",
     "output_type": "stream",
     "text": [
      "Shapiro-Wilk Test for normality (p-value): 0.9376012898409328\n",
      "The group is normally distributed.\n",
      "Shapiro-Wilk Test for normality (p-value): 0.9041660239359257\n",
      "The group is normally distributed.\n",
      "Shapiro-Wilk Test for normality (p-value): 0.4649910762139798\n",
      "The group is normally distributed.\n",
      "Levene's Test for equal variance (p-value): 0.45229216701878816\n",
      "The groups have equal variance.\n",
      "Assuming the groups are independent based on study design.\n"
     ]
    }
   ],
   "source": [
    "\"\"\"\n",
    "19) Write a Python function to check the assumptions (normality, independence, and equal variance) for ANOVA.\n",
    "Answer-\n",
    "\"\"\"\n",
    "import numpy as np\n",
    "import scipy.stats as stats\n",
    "\n",
    "def check_anova_assumptions(groups):\n",
    "    # Check for normality using Shapiro-Wilk test\n",
    "    for group in groups:\n",
    "        stat, p_value = stats.shapiro(group)\n",
    "        print(f\"Shapiro-Wilk Test for normality (p-value): {p_value}\")\n",
    "        if p_value < 0.05:\n",
    "            print(\"The group is not normally distributed.\")\n",
    "        else:\n",
    "            print(\"The group is normally distributed.\")\n",
    "    \n",
    "    # Check for equal variance using Levene's test\n",
    "    stat, p_value = stats.levene(*groups)\n",
    "    print(f\"Levene's Test for equal variance (p-value): {p_value}\")\n",
    "    if p_value < 0.05:\n",
    "        print(\"The groups do not have equal variance.\")\n",
    "    else:\n",
    "        print(\"The groups have equal variance.\")\n",
    "    \n",
    "    # Independence is typically assumed based on the study design, but can be visually checked for sampling method.\n",
    "    print(\"Assuming the groups are independent based on study design.\")\n",
    "\n",
    "# Example data\n",
    "group1 = np.random.normal(loc=50, scale=5, size=100)\n",
    "group2 = np.random.normal(loc=55, scale=5, size=100)\n",
    "group3 = np.random.normal(loc=60, scale=5, size=100)\n",
    "\n",
    "check_anova_assumptions([group1, group2, group3])\n"
   ]
  },
  {
   "cell_type": "code",
   "execution_count": 21,
   "metadata": {},
   "outputs": [
    {
     "name": "stdout",
     "output_type": "stream",
     "text": [
      "                        sum_sq     df         F    PR(>F)\n",
      "Factor_A             19.892626    1.0  0.916306  0.339626\n",
      "Factor_B             27.970181    1.0  1.288379  0.257733\n",
      "Factor_A:Factor_B     9.229602    1.0  0.425139  0.515148\n",
      "Residual           4255.079834  196.0       NaN       NaN\n"
     ]
    },
    {
     "data": {
      "image/png": "[encoded data removed]",
      "text/plain": [
       "<Figure size 640x480 with 1 Axes>"
      ]
     },
     "metadata": {},
     "output_type": "display_data"
    }
   ],
   "source": [
    "\"\"\"\n",
    "20) Perform a two-way ANOVA test using Python to study the interaction between two factors and visualize the results.\n",
    "Answer-\n",
    "\"\"\"\n",
    "import numpy as np\n",
    "import pandas as pd\n",
    "import statsmodels.api as sm\n",
    "from statsmodels.formula.api import ols\n",
    "import seaborn as sns\n",
    "import matplotlib.pyplot as plt\n",
    "\n",
    "# Generate data for two factors (Factor A and Factor B)\n",
    "np.random.seed(42)\n",
    "factor_A = np.repeat(['A1', 'A2'], 100)\n",
    "factor_B = np.tile(['B1', 'B2'], 100)\n",
    "values = np.random.normal(loc=50, scale=5, size=200)\n",
    "\n",
    "# Create a DataFrame\n",
    "df = pd.DataFrame({\n",
    "    'Factor_A': factor_A,\n",
    "    'Factor_B': factor_B,\n",
    "    'Values': values\n",
    "})\n",
    "\n",
    "# Perform two-way ANOVA\n",
    "model = ols('Values ~ Factor_A * Factor_B', data=df).fit()\n",
    "anova_table = sm.stats.anova_lm(model, typ=2)\n",
    "\n",
    "print(anova_table)\n",
    "\n",
    "# Visualize interaction\n",
    "sns.boxplot(x='Factor_A', y='Values', hue='Factor_B', data=df)\n",
    "plt.title(\"Two-way ANOVA Interaction\")\n",
    "plt.show()\n"
   ]
  },
  {
   "cell_type": "code",
   "execution_count": 22,
   "metadata": {},
   "outputs": [
    {
     "data": {
      "image/png": "[encoded data removed]",
      "text/plain": [
       "<Figure size 640x480 with 1 Axes>"
      ]
     },
     "metadata": {},
     "output_type": "display_data"
    },
    {
     "name": "stdout",
     "output_type": "stream",
     "text": [
      "The F-distribution is used in ANOVA to test hypotheses regarding variances.\n"
     ]
    }
   ],
   "source": [
    "\"\"\"\n",
    "21) Write a Python program to visualize the F-distribution and discuss its use in hypothesis testing.\n",
    "Answer-\n",
    "\"\"\"\n",
    "import numpy as np\n",
    "import matplotlib.pyplot as plt\n",
    "from scipy.stats import f\n",
    "\n",
    "# Degrees of freedom\n",
    "dof1 = 5  # Numerator degrees of freedom\n",
    "dof2 = 2  # Denominator degrees of freedom\n",
    "\n",
    "x = np.linspace(0, 5, 1000)\n",
    "y = f.pdf(x, dfn=dof1, dfd=dof2)\n",
    "\n",
    "plt.plot(x, y, label=f'F-distribution df1={dof1}, df2={dof2}')\n",
    "plt.fill_between(x, 0, y, where=(x > 2.5), color='red', alpha=0.3)  # Example rejection region\n",
    "plt.title('F-distribution')\n",
    "plt.xlabel('Value')\n",
    "plt.ylabel('Density')\n",
    "plt.legend()\n",
    "plt.show()\n",
    "\n",
    "print(f\"The F-distribution is used in ANOVA to test hypotheses regarding variances.\")\n"
   ]
  },
  {
   "cell_type": "code",
   "execution_count": 23,
   "metadata": {},
   "outputs": [
    {
     "name": "stderr",
     "output_type": "stream",
     "text": [
      "C:\\Users\\Varshitha G\\AppData\\Local\\Temp\\ipykernel_3512\\76111051.py:18: MatplotlibDeprecationWarning: The 'labels' parameter of boxplot() has been renamed 'tick_labels' since Matplotlib 3.9; support for the old name will be dropped in 3.11.\n",
      "  plt.boxplot([group1, group2, group3], labels=['Group 1', 'Group 2', 'Group 3'])\n"
     ]
    },
    {
     "data": {
      "image/png": "[encoded data removed]",
      "text/plain": [
       "<Figure size 640x480 with 1 Axes>"
      ]
     },
     "metadata": {},
     "output_type": "display_data"
    },
    {
     "name": "stdout",
     "output_type": "stream",
     "text": [
      "F-statistic: 86.07621107671586\n",
      "P-value: 3.267452174639426e-30\n"
     ]
    }
   ],
   "source": [
    "\"\"\"\n",
    "22) Perform a one-way ANOVA test in Python and visualize the results with boxplots to compare group means.\n",
    "Answer-\n",
    "\"\"\"\n",
    "import numpy as np\n",
    "import matplotlib.pyplot as plt\n",
    "from scipy import stats\n",
    "\n",
    "# Generate three groups of data\n",
    "group1 = np.random.normal(loc=50, scale=5, size=100)\n",
    "group2 = np.random.normal(loc=55, scale=5, size=100)\n",
    "group3 = np.random.normal(loc=60, scale=5, size=100)\n",
    "\n",
    "# Perform one-way ANOVA\n",
    "f_stat, p_value = stats.f_oneway(group1, group2, group3)\n",
    "\n",
    "# Visualize with boxplot\n",
    "plt.boxplot([group1, group2, group3], labels=['Group 1', 'Group 2', 'Group 3'])\n",
    "plt.title(\"One-way ANOVA with Boxplots\")\n",
    "plt.show()\n",
    "\n",
    "print(\"F-statistic:\", f_stat)\n",
    "print(\"P-value:\", p_value)\n"
   ]
  },
  {
   "cell_type": "code",
   "execution_count": 24,
   "metadata": {},
   "outputs": [
    {
     "name": "stdout",
     "output_type": "stream",
     "text": [
      "T-statistic: -5.579692906280141\n",
      "P-value: 2.1019629711497522e-07\n"
     ]
    }
   ],
   "source": [
    "\"\"\"\n",
    "23) Simulate random data from a normal distribution, then perform hypothesis testing to evaluate the means.\n",
    "Answer-\n",
    "\"\"\"\n",
    "import numpy as np\n",
    "from scipy import stats\n",
    "\n",
    "# Simulate random data\n",
    "data = np.random.normal(loc=50, scale=5, size=100)\n",
    "\n",
    "# Perform one-sample t-test\n",
    "t_stat, p_value = stats.ttest_1samp(data, popmean=52)\n",
    "\n",
    "print(\"T-statistic:\", t_stat)\n",
    "print(\"P-value:\", p_value)\n"
   ]
  },
  {
   "cell_type": "code",
   "execution_count": 25,
   "metadata": {},
   "outputs": [
    {
     "name": "stdout",
     "output_type": "stream",
     "text": [
      "Chi-squared statistic: 112.75765076918664\n",
      "P-value: 0.16288990233706013\n"
     ]
    }
   ],
   "source": [
    "\"\"\"\n",
    "24) Perform a hypothesis test for population variance using a Chi-square distribution and interpret the results.\n",
    "Answer-\n",
    "\"\"\"\n",
    "import numpy as np\n",
    "from scipy import stats\n",
    "\n",
    "# Simulate data\n",
    "data = np.random.normal(loc=50, scale=5, size=100)\n",
    "\n",
    "# Hypothesis: Test if the variance is equal to 25 (standard deviation 5)\n",
    "observed_variance = np.var(data, ddof=1)\n",
    "n = len(data)\n",
    "expected_variance = 25\n",
    "\n",
    "# Chi-square statistic\n",
    "chi2_stat = (n - 1) * observed_variance / expected_variance\n",
    "\n",
    "# Degrees of freedom\n",
    "df = n - 1\n",
    "\n",
    "# P-value\n",
    "p_value = 1 - stats.chi2.cdf(chi2_stat, df)\n",
    "\n",
    "print(\"Chi-squared statistic:\", chi2_stat)\n",
    "print(\"P-value:\", p_value)\n"
   ]
  },
  {
   "cell_type": "code",
   "execution_count": 26,
   "metadata": {},
   "outputs": [
    {
     "name": "stdout",
     "output_type": "stream",
     "text": [
      "Z-statistic: 0.7151985398521514\n",
      "P-value: 0.4744863711713392\n"
     ]
    }
   ],
   "source": [
    "\"\"\"\n",
    "25) Write a Python script to perform a Z-test for comparing proportions between two datasets or groups.\n",
    "Answer-\n",
    "\"\"\"\n",
    "import numpy as np\n",
    "from statsmodels.stats.proportion import proportions_ztest\n",
    "\n",
    "# Example: Comparing the proportions of success in two groups\n",
    "success_a = 45\n",
    "total_a = 100\n",
    "success_b = 40\n",
    "total_b = 100\n",
    "\n",
    "# Z-test for proportions\n",
    "count = np.array([success_a, success_b])\n",
    "nobs = np.array([total_a, total_b])\n",
    "\n",
    "z_stat, p_value = proportions_ztest(count, nobs)\n",
    "\n",
    "print(\"Z-statistic:\", z_stat)\n",
    "print(\"P-value:\", p_value)\n"
   ]
  },
  {
   "cell_type": "code",
   "execution_count": 27,
   "metadata": {},
   "outputs": [
    {
     "data": {
      "image/png": "[encoded data removed]",
      "text/plain": [
       "<Figure size 640x480 with 1 Axes>"
      ]
     },
     "metadata": {},
     "output_type": "display_data"
    },
    {
     "name": "stdout",
     "output_type": "stream",
     "text": [
      "F-statistic: 0.27050974713297504\n",
      "P-value: 0.9999999998278898\n"
     ]
    }
   ],
   "source": [
    "\"\"\"\n",
    "26) Implement an F-test for comparing the variances of two datasets, then interpret and visualize the results.\n",
    "Answer-\n",
    "\"\"\"\n",
    "import numpy as np\n",
    "import matplotlib.pyplot as plt\n",
    "from scipy.stats import f\n",
    "\n",
    "# Simulate two datasets\n",
    "data1 = np.random.normal(loc=50, scale=5, size=100)\n",
    "data2 = np.random.normal(loc=55, scale=10, size=100)\n",
    "\n",
    "# Calculate variances\n",
    "var1 = np.var(data1, ddof=1)\n",
    "var2 = np.var(data2, ddof=1)\n",
    "\n",
    "# F-statistic for variances comparison\n",
    "f_stat = var1 / var2\n",
    "dfn = len(data1) - 1  # degrees of freedom for the numerator\n",
    "dfd = len(data2) - 1  # degrees of freedom for the denominator\n",
    "\n",
    "# P-value\n",
    "p_value = 1 - f.cdf(f_stat, dfn, dfd)\n",
    "\n",
    "# Visualize the data and F-distribution\n",
    "plt.hist(data1, alpha=0.5, label='Group 1')\n",
    "plt.hist(data2, alpha=0.5, label='Group 2')\n",
    "plt.legend()\n",
    "plt.title(\"Comparison of Variances\")\n",
    "plt.show()\n",
    "\n",
    "print(\"F-statistic:\", f_stat)\n",
    "print(\"P-value:\", p_value)\n"
   ]
  },
  {
   "cell_type": "code",
   "execution_count": 28,
   "metadata": {},
   "outputs": [
    {
     "name": "stdout",
     "output_type": "stream",
     "text": [
      "Chi-squared statistic: 14.0\n",
      "P-value: 0.002905152774267437\n"
     ]
    }
   ],
   "source": [
    "\"\"\"\n",
    "27) Perform a Chi-square test for goodness of fit with simulated data and analyze the results.\n",
    "Answer-\n",
    "\"\"\"\n",
    "import numpy as np\n",
    "from scipy import stats\n",
    "\n",
    "# Simulate observed data\n",
    "observed = np.array([30, 10, 25, 35])  # Observed frequencies for four categories\n",
    "\n",
    "# Expected frequencies (example: uniform distribution)\n",
    "expected = np.array([25, 25, 25, 25])\n",
    "\n",
    "# Perform Chi-square test\n",
    "chi2_stat, p_value = stats.chisquare(observed, expected)\n",
    "\n",
    "print(\"Chi-squared statistic:\", chi2_stat)\n",
    "print(\"P-value:\", p_value)\n"
   ]
  },
  {
   "cell_type": "code",
   "execution_count": null,
   "metadata": {},
   "outputs": [],
   "source": []
  }
 ],
 "metadata": {
  "kernelspec": {
   "display_name": "Python 3",
   "language": "python",
   "name": "python3"
  },
  "language_info": {
   "codemirror_mode": {
    "name": "ipython",
    "version": 3
   },
   "file_extension": ".py",
   "mimetype": "text/x-python",
   "name": "python",
   "nbconvert_exporter": "python",
   "pygments_lexer": "ipython3",
   "version": "3.12.6"
  }
 },
 "nbformat": 4,
 "nbformat_minor": 2
}
